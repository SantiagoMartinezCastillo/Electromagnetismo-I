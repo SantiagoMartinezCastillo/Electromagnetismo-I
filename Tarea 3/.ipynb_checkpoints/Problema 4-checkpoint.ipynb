{
 "cells": [
  {
   "cell_type": "code",
   "execution_count": 1,
   "id": "f6306399",
   "metadata": {},
   "outputs": [],
   "source": [
    "import numpy as np\n",
    "import matplotlib.pyplot as plt"
   ]
  },
  {
   "cell_type": "code",
   "execution_count": 2,
   "id": "c80d5dfd",
   "metadata": {},
   "outputs": [],
   "source": [
    "L = 10\n",
    "V = 100\n",
    "N = 101"
   ]
  },
  {
   "cell_type": "code",
   "execution_count": 3,
   "id": "bcb21bbd",
   "metadata": {},
   "outputs": [
    {
     "data": {
      "text/plain": [
       "array([ 0. ,  0.1,  0.2,  0.3,  0.4,  0.5,  0.6,  0.7,  0.8,  0.9,  1. ,\n",
       "        1.1,  1.2,  1.3,  1.4,  1.5,  1.6,  1.7,  1.8,  1.9,  2. ,  2.1,\n",
       "        2.2,  2.3,  2.4,  2.5,  2.6,  2.7,  2.8,  2.9,  3. ,  3.1,  3.2,\n",
       "        3.3,  3.4,  3.5,  3.6,  3.7,  3.8,  3.9,  4. ,  4.1,  4.2,  4.3,\n",
       "        4.4,  4.5,  4.6,  4.7,  4.8,  4.9,  5. ,  5.1,  5.2,  5.3,  5.4,\n",
       "        5.5,  5.6,  5.7,  5.8,  5.9,  6. ,  6.1,  6.2,  6.3,  6.4,  6.5,\n",
       "        6.6,  6.7,  6.8,  6.9,  7. ,  7.1,  7.2,  7.3,  7.4,  7.5,  7.6,\n",
       "        7.7,  7.8,  7.9,  8. ,  8.1,  8.2,  8.3,  8.4,  8.5,  8.6,  8.7,\n",
       "        8.8,  8.9,  9. ,  9.1,  9.2,  9.3,  9.4,  9.5,  9.6,  9.7,  9.8,\n",
       "        9.9, 10. ])"
      ]
     },
     "execution_count": 3,
     "metadata": {},
     "output_type": "execute_result"
    }
   ],
   "source": [
    "x_lin = np.linspace(0, 10, N)\n",
    "y_lin = np.linspace(0, 10, N)\n",
    "\n",
    "U = np.zeros((N,N))\n",
    "\n",
    "x_lin"
   ]
  },
  {
   "cell_type": "code",
   "execution_count": 4,
   "id": "469d6e67",
   "metadata": {},
   "outputs": [
    {
     "data": {
      "text/plain": [
       "array([[0., 0., 0., ..., 0., 0., 0.],\n",
       "       [0., 0., 0., ..., 0., 0., 0.],\n",
       "       [0., 0., 0., ..., 0., 0., 0.],\n",
       "       ...,\n",
       "       [0., 0., 0., ..., 0., 0., 0.],\n",
       "       [0., 0., 0., ..., 0., 0., 0.],\n",
       "       [0., 0., 0., ..., 0., 0., 0.]])"
      ]
     },
     "execution_count": 4,
     "metadata": {},
     "output_type": "execute_result"
    }
   ],
   "source": [
    "U[:, 0] = 0\n",
    "U[0, :] = 0\n",
    "\n",
    "U"
   ]
  },
  {
   "cell_type": "code",
   "execution_count": 5,
   "id": "ca7dff68",
   "metadata": {},
   "outputs": [],
   "source": [
    "#Colocar fronteras\n",
    "\n",
    "front_ind = np.zeros(N)\n",
    "front_ind[0] = N\n",
    "front_ind[N-1] = 0\n",
    "\n",
    "h = L/(N-1)\n",
    "\n",
    "for i in range(1, N-1):\n",
    "    y = i*h\n",
    "    theta = np.arcsin(y/L)\n",
    "    x = 10*np.cos(theta)\n",
    "    index = int(x/h)\n",
    "    U[ i , index ] = V\n",
    "    front_ind[i] = index"
   ]
  },
  {
   "cell_type": "code",
   "execution_count": 6,
   "id": "2efd3235",
   "metadata": {},
   "outputs": [
    {
     "data": {
      "text/plain": [
       "array([[  0.,   0.,   0., ...,   0.,   0.,   0.],\n",
       "       [  0.,   0.,   0., ...,   0., 100.,   0.],\n",
       "       [  0.,   0.,   0., ...,   0., 100.,   0.],\n",
       "       ...,\n",
       "       [  0.,   0.,   0., ...,   0.,   0.,   0.],\n",
       "       [  0.,   0.,   0., ...,   0.,   0.,   0.],\n",
       "       [  0.,   0.,   0., ...,   0.,   0.,   0.]])"
      ]
     },
     "execution_count": 6,
     "metadata": {},
     "output_type": "execute_result"
    }
   ],
   "source": [
    "U"
   ]
  },
  {
   "cell_type": "code",
   "execution_count": 7,
   "id": "23daad38",
   "metadata": {},
   "outputs": [
    {
     "data": {
      "text/plain": [
       "array([101.,  99.,  99.,  99.,  99.,  99.,  99.,  99.,  99.,  99.,  99.,\n",
       "        99.,  99.,  99.,  99.,  98.,  98.,  98.,  98.,  98.,  97.,  97.,\n",
       "        97.,  97.,  97.,  96.,  96.,  96.,  95.,  95.,  95.,  95.,  94.,\n",
       "        94.,  94.,  93.,  93.,  92.,  92.,  92.,  91.,  91.,  90.,  90.,\n",
       "        89.,  89.,  88.,  88.,  87.,  87.,  86.,  86.,  85.,  84.,  84.,\n",
       "        83.,  82.,  82.,  81.,  80.,  80.,  79.,  78.,  77.,  76.,  75.,\n",
       "        75.,  74.,  73.,  72.,  71.,  70.,  69.,  68.,  67.,  66.,  64.,\n",
       "        63.,  62.,  61.,  60.,  58.,  57.,  55.,  54.,  52.,  51.,  49.,\n",
       "        47.,  45.,  43.,  41.,  39.,  36.,  34.,  31.,  27.,  24.,  19.,\n",
       "        14.,   0.])"
      ]
     },
     "execution_count": 7,
     "metadata": {},
     "output_type": "execute_result"
    }
   ],
   "source": [
    "front_ind"
   ]
  },
  {
   "cell_type": "code",
   "execution_count": 8,
   "id": "4aa1d09a",
   "metadata": {},
   "outputs": [
    {
     "data": {
      "text/plain": [
       "<matplotlib.contour.QuadContourSet at 0x2b12454a210>"
      ]
     },
     "execution_count": 8,
     "metadata": {},
     "output_type": "execute_result"
    },
    {
     "data": {
      "image/png": "[encoded data removed]",
      "text/plain": [
       "<Figure size 640x480 with 1 Axes>"
      ]
     },
     "metadata": {},
     "output_type": "display_data"
    }
   ],
   "source": [
    "X, Y = np.meshgrid(x_lin, y_lin)\n",
    "\n",
    "plt.contour(X, Y, U)"
   ]
  },
  {
   "cell_type": "code",
   "execution_count": 9,
   "id": "f08f28e7",
   "metadata": {},
   "outputs": [
    {
     "data": {
      "text/plain": [
       "'\\n\\nfor i in range(1, N):\\n    for j in range(1, N):\\n            \\n        if j < front_ind[i]:\\n            U[i, j] = 1\\n            \\n'"
      ]
     },
     "execution_count": 9,
     "metadata": {},
     "output_type": "execute_result"
    }
   ],
   "source": [
    "\"\"\"\n",
    "\n",
    "for i in range(1, N):\n",
    "    for j in range(1, N):\n",
    "            \n",
    "        if j < front_ind[i]:\n",
    "            U[i, j] = 1\n",
    "            \n",
    "\"\"\""
   ]
  },
  {
   "cell_type": "code",
   "execution_count": 10,
   "id": "5d849014",
   "metadata": {},
   "outputs": [],
   "source": [
    "#U"
   ]
  },
  {
   "cell_type": "code",
   "execution_count": 11,
   "id": "da2aba0c",
   "metadata": {},
   "outputs": [
    {
     "data": {
      "text/plain": [
       "<matplotlib.contour.QuadContourSet at 0x2b124efe550>"
      ]
     },
     "execution_count": 11,
     "metadata": {},
     "output_type": "execute_result"
    },
    {
     "data": {
      "image/png": "[encoded data removed]",
      "text/plain": [
       "<Figure size 640x480 with 1 Axes>"
      ]
     },
     "metadata": {},
     "output_type": "display_data"
    }
   ],
   "source": [
    "X, Y = np.meshgrid(x_lin, y_lin)\n",
    "\n",
    "plt.contour(X, Y, U)"
   ]
  },
  {
   "cell_type": "code",
   "execution_count": 12,
   "id": "87ef7cfb",
   "metadata": {},
   "outputs": [],
   "source": [
    "# Función a iterar\n",
    "\n",
    "def estimacion(U, i, j):\n",
    "    \n",
    "    prom_VC = (1/4)*(U[i-1, j] + U[i+1, j] + U[i, j-1] + U[i, j+1])\n",
    "    prom_VSC = (1/4)*(U[i-1, j-1] + U[i+1, j+1] + U[i+1, j-1] + U[i-1, j+1])\n",
    "    \n",
    "    return (2/3)*prom_VC + (1/3)*prom_VSC"
   ]
  },
  {
   "cell_type": "code",
   "execution_count": 13,
   "id": "88cc70ac",
   "metadata": {},
   "outputs": [],
   "source": [
    "def promedioPrecision(U_old, U_new):\n",
    "    \n",
    "    sum_delta = 0\n",
    "    num_nodos = 0\n",
    "    \n",
    "    for i in range(N):\n",
    "        for j in range(N):\n",
    "            \n",
    "            if j < front_ind[i]:\n",
    "                delta = (U_new[i, j] - U_old[i, j])/U_old[i, j]\n",
    "                sum_delta += delta\n",
    "                num_nodos += 1\n",
    "                \n",
    "    return(sum_delta/num_nodos)"
   ]
  },
  {
   "cell_type": "code",
   "execution_count": 14,
   "id": "ebd83780",
   "metadata": {},
   "outputs": [],
   "source": [
    "def plotU_new(U):\n",
    "    \n",
    "    for i in range(1, N):\n",
    "        for j in range(1, N):\n",
    "            if j < front_ind[i]:\n",
    "                \n",
    "                U[i, j] = estimacion(U, i, j)"
   ]
  },
  {
   "cell_type": "code",
   "execution_count": 15,
   "id": "ad3c0e8b",
   "metadata": {},
   "outputs": [
    {
     "name": "stderr",
     "output_type": "stream",
     "text": [
      "C:\\Users\\santi\\AppData\\Local\\Temp\\ipykernel_27880\\2533478220.py:10: RuntimeWarning: invalid value encountered in scalar divide\n",
      "  delta = (U_new[i, j] - U_old[i, j])/U_old[i, j]\n"
     ]
    }
   ],
   "source": [
    "# Iteramos hasta llegar a un error por debajo de Delta\n",
    "\n",
    "Delta = 0.001\n",
    "it = 0\n",
    "\n",
    "while (it < 10000 or promedioPrecision(U_old, U) > Delta):\n",
    "    \n",
    "    U_old = U\n",
    "    \n",
    "    plotU_new(U)\n",
    "    \n",
    "    it+=1"
   ]
  },
  {
   "cell_type": "code",
   "execution_count": 16,
   "id": "c1215c15",
   "metadata": {},
   "outputs": [
    {
     "data": {
      "text/plain": [
       "array([[0.00000000e+00, 0.00000000e+00, 0.00000000e+00, ...,\n",
       "        0.00000000e+00, 0.00000000e+00, 0.00000000e+00],\n",
       "       [0.00000000e+00, 1.98415542e-02, 3.96894355e-02, ...,\n",
       "        4.53539772e+01, 1.00000000e+02, 0.00000000e+00],\n",
       "       [0.00000000e+00, 3.96767852e-02, 7.93662086e-02, ...,\n",
       "        6.97688475e+01, 1.00000000e+02, 0.00000000e+00],\n",
       "       ...,\n",
       "       [0.00000000e+00, 3.74582990e-01, 7.62150746e-01, ...,\n",
       "        0.00000000e+00, 0.00000000e+00, 0.00000000e+00],\n",
       "       [0.00000000e+00, 1.90647072e-01, 3.88224067e-01, ...,\n",
       "        0.00000000e+00, 0.00000000e+00, 0.00000000e+00],\n",
       "       [0.00000000e+00, 0.00000000e+00, 0.00000000e+00, ...,\n",
       "        0.00000000e+00, 0.00000000e+00, 0.00000000e+00]])"
      ]
     },
     "execution_count": 16,
     "metadata": {},
     "output_type": "execute_result"
    }
   ],
   "source": [
    "U"
   ]
  },
  {
   "cell_type": "code",
   "execution_count": 17,
   "id": "eb70b4af",
   "metadata": {},
   "outputs": [
    {
     "data": {
      "text/plain": [
       "<matplotlib.contour.QuadContourSet at 0x2b124f279d0>"
      ]
     },
     "execution_count": 17,
     "metadata": {},
     "output_type": "execute_result"
    },
    {
     "data": {
      "image/png": "[encoded data removed]",
      "text/plain": [
       "<Figure size 640x480 with 1 Axes>"
      ]
     },
     "metadata": {},
     "output_type": "display_data"
    }
   ],
   "source": [
    "plt.contourf(X, Y, U)"
   ]
  },
  {
   "cell_type": "code",
   "execution_count": null,
   "id": "56838c7f",
   "metadata": {},
   "outputs": [],
   "source": []
  }
 ],
 "metadata": {
  "kernelspec": {
   "display_name": "Python 3 (ipykernel)",
   "language": "python",
   "name": "python3"
  },
  "language_info": {
   "codemirror_mode": {
    "name": "ipython",
    "version": 3
   },
   "file_extension": ".py",
   "mimetype": "text/x-python",
   "name": "python",
   "nbconvert_exporter": "python",
   "pygments_lexer": "ipython3",
   "version": "3.11.5"
  }
 },
 "nbformat": 4,
 "nbformat_minor": 5
}
